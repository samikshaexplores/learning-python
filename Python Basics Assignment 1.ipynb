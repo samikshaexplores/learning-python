{
 "cells": [
  {
   "cell_type": "markdown",
   "metadata": {},
   "source": [
    "# Ques 1: In the below elements which of them are values or an expression? eg:- values can be integer or string and expressions will be mathematical operators.\n",
    "\n",
    "\n",
    "* \n",
    "'hello'\n",
    "-87.8\n",
    "- \n",
    "/ \n",
    "+\t\n",
    "6 \n",
    "*\n"
   ]
  },
  {
   "cell_type": "markdown",
   "metadata": {},
   "source": [
    "#answer 1\n",
    "values are 'hello', -87.8, 6\n",
    "expressions are *, -, /,+"
   ]
  },
  {
   "cell_type": "markdown",
   "metadata": {},
   "source": [
    "Ques 2:What is the difference between string and variable?\n",
    "\n",
    "Answer 2:\n",
    "A string is collection of characters but a variable can be a string , integer, float, bool or any other data type\n",
    "String is fixed whereas variable can be dynamic "
   ]
  },
  {
   "cell_type": "markdown",
   "metadata": {},
   "source": [
    "Ques 3. Describe three different data types.\n",
    "\n",
    "Answer 3:\n",
    "The three different data types are as follows:\n",
    "1. lists: it is a collection of data and can hold combination of various data types\n",
    "eg: list1=[\"samiksha\", 27, true, 3.5lpa]\n",
    "2. dictionary: it consists of two things which are key and value. the key identifies the value\n",
    "example: dictionary of singers and songs [\"sonu nigam\":\"kal ho na ho\", \"nusrat ali\":\"ye jo halka halka suroor hai\"]\n",
    "3. bool: it is a boolean data type which can also be considered as binary and can has only two values which are true and false which means 1 and 0 respectively.\n"
   ]
  },
  {
   "cell_type": "markdown",
   "metadata": {},
   "source": [
    "Ques 4. What is an expression made up of? What do all expressions do?\n",
    "\n",
    "Answer 4: Expressions are made up of mathematical operators and are known by special characters. Expressions can \n",
    "          perform mathematical operations like sum (+), product(*), division(/), powers(^) etc.\n",
    "    \n"
   ]
  },
  {
   "cell_type": "markdown",
   "metadata": {},
   "source": [
    "Ques 5. This assignment statements, like spam = 10. What is the difference between an expression and a statement?\n",
    "\n",
    "\n",
    "Answer 5: an expression is a statement consisting of mathematical operations for ex: 2+4, (2*(3+6)) where as assignment statements assign the values to a variable for ex: spam =10 is assigning the value of 10 to the variable spam "
   ]
  },
  {
   "cell_type": "markdown",
   "metadata": {},
   "source": [
    "Ques 6. After running the following code, what does the variable bacon contain?\n",
    "\n",
    "bacon = 22\n",
    "\n",
    "bacon + 1\n",
    "\n",
    "Answer 6: bacon contains the value 22 since this was the value assigned to it and after that no changes were made to the assignment\n"
   ]
  },
  {
   "cell_type": "code",
   "execution_count": 2,
   "metadata": {},
   "outputs": [
    {
     "name": "stdout",
     "output_type": "stream",
     "text": [
      "22\n"
     ]
    }
   ],
   "source": [
    "bacon = 22\n",
    "bacon+1\n",
    "print(bacon)"
   ]
  },
  {
   "cell_type": "markdown",
   "metadata": {},
   "source": [
    "Ques 7. What should the values of the following two terms be?\n",
    "'spam' + 'spamspam'\n",
    "'spam' * 3\n",
    "\n",
    "Answer 7: The values of both the expressions must be same i.e spamspamspam\n"
   ]
  },
  {
   "cell_type": "code",
   "execution_count": 4,
   "metadata": {},
   "outputs": [
    {
     "name": "stdout",
     "output_type": "stream",
     "text": [
      "spamspamspam\n",
      "spamspamspam\n"
     ]
    }
   ],
   "source": [
    "a='spam' + 'spamspam'\n",
    "b='spam' * 3\n",
    "print(a)\n",
    "print(b)"
   ]
  },
  {
   "cell_type": "markdown",
   "metadata": {},
   "source": [
    "Ques 8. Why is eggs a valid variable name while 100 is invalid?\n",
    "\n",
    "Answer 8: 'eggs' is a valid variable name becuase the word \"eggs\" is not a reserved keyword and starts witha alphabet where as '100' although being not a reserved keyword yet is not a valid variable becuase it starts with number instead of alphabets.\n",
    "\n",
    "\n"
   ]
  },
  {
   "cell_type": "markdown",
   "metadata": {},
   "source": [
    "Ques 9. What three functions can be used to get the integer, floating-point number, or string version of a value?\n",
    "\n",
    "Answer 9: the function to get integer of a vlue is int() ex: int(\"36\")=36\n",
    "          whereas the function to get float-point number of a value is float() eg:(4)=4.0\n",
    "          and to get a string we write str() ex:str(22)='22'\n",
    "          "
   ]
  },
  {
   "cell_type": "markdown",
   "metadata": {},
   "source": [
    "\n",
    "Ques 10. Why does this expression cause an error? How can you fix it?\n",
    "'I have eaten ' + 99 + ' burritos.'\n",
    "\n",
    "\n",
    "Answer 10: The expression \"I have eaten ' + 99 + ' burritos.\" gives an error because it is trying to concatenate \n",
    "    string with integers\n",
    "    "
   ]
  },
  {
   "cell_type": "code",
   "execution_count": null,
   "metadata": {},
   "outputs": [],
   "source": []
  }
 ],
 "metadata": {
  "kernelspec": {
   "display_name": "Python 3",
   "language": "python",
   "name": "python3"
  },
  "language_info": {
   "codemirror_mode": {
    "name": "ipython",
    "version": 3
   },
   "file_extension": ".py",
   "mimetype": "text/x-python",
   "name": "python",
   "nbconvert_exporter": "python",
   "pygments_lexer": "ipython3",
   "version": "3.8.5"
  }
 },
 "nbformat": 4,
 "nbformat_minor": 4
}
