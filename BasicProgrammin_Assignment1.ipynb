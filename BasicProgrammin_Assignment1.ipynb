{
 "cells": [
  {
   "cell_type": "markdown",
   "metadata": {},
   "source": [
    "Ques 1. Write a Python program to print \"Hello Python\""
   ]
  },
  {
   "cell_type": "code",
   "execution_count": 1,
   "metadata": {},
   "outputs": [
    {
     "name": "stdout",
     "output_type": "stream",
     "text": [
      "Hello Python\n"
     ]
    }
   ],
   "source": [
    "print(\"Hello Python\")"
   ]
  },
  {
   "cell_type": "markdown",
   "metadata": {},
   "source": [
    "Ques 2. Write a Python program to do arithmetical operations addition and division?\n",
    "\n"
   ]
  },
  {
   "cell_type": "code",
   "execution_count": 10,
   "metadata": {},
   "outputs": [
    {
     "name": "stdout",
     "output_type": "stream",
     "text": [
      "type '+' for addition and '/' for division5\n",
      "enter first number2\n",
      "enter second number5\n",
      "0.4\n"
     ]
    }
   ],
   "source": [
    "operation = input(\"type '+' for addition and '/' for division\" )\n",
    "num1=int(input(\"enter first number\"))\n",
    "num2=int(input(\"enter second number\"))\n",
    "if operation==\"+\":\n",
    "    result=num1+num2\n",
    "else:\n",
    "    result=(num1/num2)\n",
    "\n",
    "print(result)\n"
   ]
  },
  {
   "cell_type": "markdown",
   "metadata": {},
   "source": [
    "Ques 3. Write a Python program to find the area of a triangle?"
   ]
  },
  {
   "cell_type": "code",
   "execution_count": 25,
   "metadata": {},
   "outputs": [
    {
     "name": "stdout",
     "output_type": "stream",
     "text": [
      "do you know all sides of the triangle or base and height? for all sides type hero else type areaarea\n",
      "enter length of base of triangle60\n",
      "enter length of height of tringle60\n",
      "1800.0\n"
     ]
    }
   ],
   "source": [
    "formula=input(\"do you know all sides of the triangle or base and height? for all sides type hero else type area\")\n",
    "if formula==\"hero\":\n",
    "    a=int(input(\"enter length of first side\"))\n",
    "    b=int(input(\"enter lenght of second side\"))\n",
    "    c=int(input(\"enter length of third side\"))\n",
    "    s=((a+b+c)/2)\n",
    "    area=(s*(s-a)*(s-b)*(s-c))**0.5\n",
    "else:\n",
    "    base=int(input(\"enter length of base of triangle\"))\n",
    "    height=int(input(\"enter length of height of tringle\"))\n",
    "    area = 1/2*base*height\n",
    "print(area)"
   ]
  },
  {
   "cell_type": "markdown",
   "metadata": {},
   "source": [
    "Ques 4. Write a Python program to swap two variables?"
   ]
  },
  {
   "cell_type": "code",
   "execution_count": 27,
   "metadata": {},
   "outputs": [
    {
     "name": "stdout",
     "output_type": "stream",
     "text": [
      "enter first variablesumi\n",
      "enter second variableharshu\n",
      "swapped first variable is:harshu\n",
      "swapped second variable is:sumi\n"
     ]
    }
   ],
   "source": [
    "a=input(\"enter first variable\")\n",
    "b=input(\"enter second variable\")\n",
    "c=a\n",
    "a=b\n",
    "b=c\n",
    "print(\"swapped first variable is:\" +a)\n",
    "print(\"swapped second variable is:\" +b)"
   ]
  },
  {
   "cell_type": "markdown",
   "metadata": {},
   "source": [
    "Ques 5. Write a Python program to generate a random number?"
   ]
  },
  {
   "cell_type": "code",
   "execution_count": 30,
   "metadata": {},
   "outputs": [
    {
     "name": "stdout",
     "output_type": "stream",
     "text": [
      "39\n"
     ]
    }
   ],
   "source": [
    "import random\n",
    "print(random.randint(0,100))"
   ]
  },
  {
   "cell_type": "code",
   "execution_count": null,
   "metadata": {},
   "outputs": [],
   "source": []
  }
 ],
 "metadata": {
  "kernelspec": {
   "display_name": "Python 3",
   "language": "python",
   "name": "python3"
  },
  "language_info": {
   "codemirror_mode": {
    "name": "ipython",
    "version": 3
   },
   "file_extension": ".py",
   "mimetype": "text/x-python",
   "name": "python",
   "nbconvert_exporter": "python",
   "pygments_lexer": "ipython3",
   "version": "3.8.5"
  }
 },
 "nbformat": 4,
 "nbformat_minor": 4
}
