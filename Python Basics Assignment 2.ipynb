{
 "cells": [
  {
   "cell_type": "markdown",
   "metadata": {},
   "source": [
    "Ques 1.What are the two values of the Boolean data type? How do you write them?\n",
    "\n",
    "Answer 1: The two values of the Boolean data type are true and false.\n",
    "          We write them as \"True\" and \"False\" respectively.\n",
    "          \n",
    "          "
   ]
  },
  {
   "cell_type": "markdown",
   "metadata": {},
   "source": [
    "Ques 2. What are the three different types of Boolean operators?\n",
    "\n",
    "Answer 2: The three different types of boolean operators are \"AND\", \"OR\" and \"NOT\"\n"
   ]
  },
  {
   "cell_type": "markdown",
   "metadata": {},
   "source": [
    "Ques 3. Make a list of each Boolean operator's truth tables (i.e. every possible combination of Boolean values for the operator and what it evaluate ).\n",
    "\n",
    "Answer 3: Truth Table for AND\n",
    "          \n",
    "          I/P A     I/P B    O/P\n",
    "          True      False    False\n",
    "          True      True     True\n",
    "          False     True     False\n",
    "          False     False    False\n",
    "          \n",
    "          \n",
    "          Truth Table for OR\n",
    "          \n",
    "          I/P A     I/P B    O/P\n",
    "          True      False    True\n",
    "          True      True     True\n",
    "          False     True     True\n",
    "          False     False    False\n",
    "          \n",
    "          \n",
    "          Truth Table for NOT\n",
    "          \n",
    "          I/P A     O/P\n",
    "          True      False\n",
    "          False     True\n"
   ]
  },
  {
   "cell_type": "markdown",
   "metadata": {},
   "source": [
    "Ques 4. What are the values of the following expressions?\n",
    "(5 > 4) and (3 == 5)\n",
    "not (5 > 4)\n",
    "(5 > 4) or (3 == 5)\n",
    "not ((5 > 4) or (3 == 5))\n",
    "(True and True) and (True == False)\n",
    "(not False) or (not True)\n",
    "\n",
    "\n",
    "Answer 4: The values of the following expressions are:\n",
    "\n",
    "        a) (5 > 4) and (3 == 5) is False\n",
    "        b) not (5 > 4) is False\n",
    "        c) (5 > 4) or (3 == 5) is True\n",
    "        d) not ((5 > 4) or (3 == 5)) is False\n",
    "        e) (True and True) and (True == False) is False\n",
    "        f) (not False) or (not True) is True\n",
    "                                        "
   ]
  },
  {
   "cell_type": "markdown",
   "metadata": {},
   "source": [
    "Ques 5. What are the six comparison operators?\n",
    "\n",
    "Answer 5: The six comparison operators are: \"<\", \">\", \">=\", \"<=\", \"==\", \"!=\".\n"
   ]
  },
  {
   "cell_type": "markdown",
   "metadata": {},
   "source": [
    "Ques 6. How do you tell the difference between the equal to and assignment operators?Describe a condition and when you would use one.\n",
    "\n",
    "Answer 6: The equal to operator is \"==\" and is used for comparing the equal values and always results in a boolean value\n",
    "          whereas the assignment operator is \"=\" and is used to assign a value to a variable.\n",
    "          For example: a=2 is assigning the value 2 to the variable 'a'\n",
    "                       x==5 is comparing the value of 'x' with 5 and will result in either true or false.\n",
    "                       "
   ]
  },
  {
   "cell_type": "markdown",
   "metadata": {},
   "source": [
    "Ques 7. Identify the three blocks in this code:\n",
    "spam = 0\n",
    "if spam == 10:\n",
    "print('eggs')\n",
    "if spam > 5:\n",
    "print('bacon')\n",
    "else:\n",
    "print('ham')\n",
    "print('spam')\n",
    "print('spam')\n",
    "\n",
    "\n",
    "Answer 7: The three blocks in this code are:\n",
    "          \n",
    "          First block: if spam == 10:\n",
    "                            print('eggs')\n",
    "          Second Block: if spam > 5:\n",
    "                            print('bacon')\n",
    "          Third Block:  else:\n",
    "                            print('ham')\n",
    "                            print('spam')\n",
    "                            print('spam')\n"
   ]
  },
  {
   "cell_type": "code",
   "execution_count": null,
   "metadata": {},
   "outputs": [],
   "source": [
    "\"\"\"Ques 8. Write code that prints Hello if 1 is stored in spam, prints Howdy if 2 is stored in spam,\n",
    "and prints Greetings! if anything else is stored in spam.\"\"\"\n",
    "\n",
    "spam = int(input(\"Enter a integer between 0-9 :\"))\n",
    "if spam == 1:\n",
    "    print(\"Hello\")\n",
    "elif spam == 2:\n",
    "    print(\"Howdy\")\n",
    "else:\n",
    "    print(\"Greetings\")"
   ]
  },
  {
   "cell_type": "markdown",
   "metadata": {},
   "source": [
    "Ques 9.If your programme is stuck in an endless loop, what keys you’ll press?\n",
    "\n",
    "Answer 9: I will restart the kernel by pressing Esc followed by 0, 0\n",
    "\n",
    "#but this command doesn't works for me... can you please explain why it is not working??\n",
    "\n"
   ]
  },
  {
   "cell_type": "markdown",
   "metadata": {},
   "source": [
    "Ques 10. How can you tell the difference between break and continue?\n",
    "\n",
    "Answer 10: The break command helps in coming out of the loop at a specific condition or  helps in exiting the code at a \n",
    "           particular condition whereas the continue command helps in skipping a particular condition in the loop or code and\n",
    "           move forward with the code.\n"
   ]
  },
  {
   "cell_type": "markdown",
   "metadata": {},
   "source": [
    "Ques 11. In a for loop, what is the difference between range(10), range(0, 10), and range(0, 10, 1)?\n",
    "\n",
    "Answer 11: There is no difference in a for loop for range(10), range(0,10) and range(0,10,1)\n",
    "           All of them gives the result starting from 0 and leaving the upper bound with a step of 1 i.e. : 0,1,2,3,4,5,6,7,8,9"
   ]
  },
  {
   "cell_type": "code",
   "execution_count": 4,
   "metadata": {},
   "outputs": [
    {
     "name": "stdout",
     "output_type": "stream",
     "text": [
      "1\n",
      "2\n",
      "3\n",
      "4\n",
      "5\n",
      "6\n",
      "7\n",
      "8\n",
      "9\n",
      "10\n"
     ]
    }
   ],
   "source": [
    "\"\"\"Ques 12. Write a short program that prints the numbers 1 to 10 using a for loop. \n",
    "Then write an equivalent program that prints the numbers 1 to 10 using a while loop.\"\"\"\n",
    "\n",
    "#Answer 12 using for loop\n",
    "for x in range(1,11):\n",
    "    print(x)"
   ]
  },
  {
   "cell_type": "code",
   "execution_count": 5,
   "metadata": {},
   "outputs": [
    {
     "name": "stdout",
     "output_type": "stream",
     "text": [
      "1\n",
      "2\n",
      "3\n",
      "4\n",
      "5\n",
      "6\n",
      "7\n",
      "8\n",
      "9\n",
      "10\n"
     ]
    }
   ],
   "source": [
    "#Answer 12 using while loop\n",
    "x=1\n",
    "while x<11:\n",
    "    print(x)\n",
    "    x=x+1"
   ]
  },
  {
   "cell_type": "markdown",
   "metadata": {},
   "source": [
    "Ques 13. If you had a function named bacon() inside a module named spam, how would you call it after importing spam?\n",
    "\n",
    "Answer 13: To call bacon() after importing spam i would use: \"spam.bacoon\""
   ]
  },
  {
   "cell_type": "code",
   "execution_count": null,
   "metadata": {},
   "outputs": [],
   "source": []
  }
 ],
 "metadata": {
  "kernelspec": {
   "display_name": "Python 3",
   "language": "python",
   "name": "python3"
  },
  "language_info": {
   "codemirror_mode": {
    "name": "ipython",
    "version": 3
   },
   "file_extension": ".py",
   "mimetype": "text/x-python",
   "name": "python",
   "nbconvert_exporter": "python",
   "pygments_lexer": "ipython3",
   "version": "3.8.5"
  }
 },
 "nbformat": 4,
 "nbformat_minor": 4
}
